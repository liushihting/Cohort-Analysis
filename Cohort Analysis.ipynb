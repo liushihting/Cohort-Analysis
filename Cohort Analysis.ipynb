{
 "cells": [
  {
   "cell_type": "markdown",
   "id": "4867cf11",
   "metadata": {
    "ExecuteTime": {
     "end_time": "2022-08-31T00:24:53.463299Z",
     "start_time": "2022-08-31T00:24:46.153880Z"
    }
   },
   "source": [
    "Using **cohort analysis** to see customers' **churn or return** pattern  \n",
    "\n",
    "Inspired by <a href=\"{https://practicaldatascience.co.uk/data-science/how-to-perform-a-customer-cohort-analysis-in-pandas}\">Practical Data Science: How to perform a customer cohort analysis in Pandas</a>  \n",
    "Dataset from <a href=\"{https://archive.ics.uci.edu/ml/datasets/Online+Retail}\">UCI Machine Learning Repository: Online Retail</a>"
   ]
  },
  {
   "cell_type": "code",
   "execution_count": 1,
   "id": "d15a6360",
   "metadata": {
    "ExecuteTime": {
     "end_time": "2022-08-31T06:25:04.309360Z",
     "start_time": "2022-08-31T06:25:00.214997Z"
    }
   },
   "outputs": [],
   "source": [
    "# import packages\n",
    "\n",
    "import pandas as pd\n",
    "import numpy as np\n",
    "import operator as op\n",
    "import matplotlib.pyplot as plt\n",
    "import seaborn as sns\n"
   ]
  },
  {
   "cell_type": "markdown",
   "id": "24a490f5",
   "metadata": {},
   "source": [
    "# Load Dataset"
   ]
  },
  {
   "cell_type": "code",
   "execution_count": 2,
   "id": "4dc140ec",
   "metadata": {
    "ExecuteTime": {
     "end_time": "2022-08-31T06:26:41.623400Z",
     "start_time": "2022-08-31T06:25:04.315909Z"
    }
   },
   "outputs": [
    {
     "data": {
      "text/html": [
       "<div>\n",
       "<style scoped>\n",
       "    .dataframe tbody tr th:only-of-type {\n",
       "        vertical-align: middle;\n",
       "    }\n",
       "\n",
       "    .dataframe tbody tr th {\n",
       "        vertical-align: top;\n",
       "    }\n",
       "\n",
       "    .dataframe thead th {\n",
       "        text-align: right;\n",
       "    }\n",
       "</style>\n",
       "<table border=\"1\" class=\"dataframe\">\n",
       "  <thead>\n",
       "    <tr style=\"text-align: right;\">\n",
       "      <th></th>\n",
       "      <th>InvoiceNo</th>\n",
       "      <th>StockCode</th>\n",
       "      <th>Description</th>\n",
       "      <th>Quantity</th>\n",
       "      <th>InvoiceDate</th>\n",
       "      <th>UnitPrice</th>\n",
       "      <th>CustomerID</th>\n",
       "      <th>Country</th>\n",
       "    </tr>\n",
       "  </thead>\n",
       "  <tbody>\n",
       "    <tr>\n",
       "      <th>0</th>\n",
       "      <td>536365</td>\n",
       "      <td>85123A</td>\n",
       "      <td>WHITE HANGING HEART T-LIGHT HOLDER</td>\n",
       "      <td>6</td>\n",
       "      <td>2010-12-01 08:26:00</td>\n",
       "      <td>2.55</td>\n",
       "      <td>17850.0</td>\n",
       "      <td>United Kingdom</td>\n",
       "    </tr>\n",
       "    <tr>\n",
       "      <th>1</th>\n",
       "      <td>536365</td>\n",
       "      <td>71053</td>\n",
       "      <td>WHITE METAL LANTERN</td>\n",
       "      <td>6</td>\n",
       "      <td>2010-12-01 08:26:00</td>\n",
       "      <td>3.39</td>\n",
       "      <td>17850.0</td>\n",
       "      <td>United Kingdom</td>\n",
       "    </tr>\n",
       "    <tr>\n",
       "      <th>2</th>\n",
       "      <td>536365</td>\n",
       "      <td>84406B</td>\n",
       "      <td>CREAM CUPID HEARTS COAT HANGER</td>\n",
       "      <td>8</td>\n",
       "      <td>2010-12-01 08:26:00</td>\n",
       "      <td>2.75</td>\n",
       "      <td>17850.0</td>\n",
       "      <td>United Kingdom</td>\n",
       "    </tr>\n",
       "    <tr>\n",
       "      <th>3</th>\n",
       "      <td>536365</td>\n",
       "      <td>84029G</td>\n",
       "      <td>KNITTED UNION FLAG HOT WATER BOTTLE</td>\n",
       "      <td>6</td>\n",
       "      <td>2010-12-01 08:26:00</td>\n",
       "      <td>3.39</td>\n",
       "      <td>17850.0</td>\n",
       "      <td>United Kingdom</td>\n",
       "    </tr>\n",
       "    <tr>\n",
       "      <th>4</th>\n",
       "      <td>536365</td>\n",
       "      <td>84029E</td>\n",
       "      <td>RED WOOLLY HOTTIE WHITE HEART.</td>\n",
       "      <td>6</td>\n",
       "      <td>2010-12-01 08:26:00</td>\n",
       "      <td>3.39</td>\n",
       "      <td>17850.0</td>\n",
       "      <td>United Kingdom</td>\n",
       "    </tr>\n",
       "  </tbody>\n",
       "</table>\n",
       "</div>"
      ],
      "text/plain": [
       "  InvoiceNo StockCode                          Description  Quantity  \\\n",
       "0    536365    85123A   WHITE HANGING HEART T-LIGHT HOLDER         6   \n",
       "1    536365     71053                  WHITE METAL LANTERN         6   \n",
       "2    536365    84406B       CREAM CUPID HEARTS COAT HANGER         8   \n",
       "3    536365    84029G  KNITTED UNION FLAG HOT WATER BOTTLE         6   \n",
       "4    536365    84029E       RED WOOLLY HOTTIE WHITE HEART.         6   \n",
       "\n",
       "          InvoiceDate  UnitPrice  CustomerID         Country  \n",
       "0 2010-12-01 08:26:00       2.55     17850.0  United Kingdom  \n",
       "1 2010-12-01 08:26:00       3.39     17850.0  United Kingdom  \n",
       "2 2010-12-01 08:26:00       2.75     17850.0  United Kingdom  \n",
       "3 2010-12-01 08:26:00       3.39     17850.0  United Kingdom  \n",
       "4 2010-12-01 08:26:00       3.39     17850.0  United Kingdom  "
      ]
     },
     "execution_count": 2,
     "metadata": {},
     "output_type": "execute_result"
    }
   ],
   "source": [
    "df = pd.read_excel('Online Retail.xlsx')\n",
    "df.head()"
   ]
  },
  {
   "cell_type": "code",
   "execution_count": 3,
   "id": "6d677667",
   "metadata": {
    "ExecuteTime": {
     "end_time": "2022-08-31T06:26:41.830827Z",
     "start_time": "2022-08-31T06:26:41.640978Z"
    }
   },
   "outputs": [
    {
     "name": "stdout",
     "output_type": "stream",
     "text": [
      "<class 'pandas.core.frame.DataFrame'>\n",
      "RangeIndex: 541909 entries, 0 to 541908\n",
      "Data columns (total 8 columns):\n",
      " #   Column       Non-Null Count   Dtype         \n",
      "---  ------       --------------   -----         \n",
      " 0   InvoiceNo    541909 non-null  object        \n",
      " 1   StockCode    541909 non-null  object        \n",
      " 2   Description  540455 non-null  object        \n",
      " 3   Quantity     541909 non-null  int64         \n",
      " 4   InvoiceDate  541909 non-null  datetime64[ns]\n",
      " 5   UnitPrice    541909 non-null  float64       \n",
      " 6   CustomerID   406829 non-null  float64       \n",
      " 7   Country      541909 non-null  object        \n",
      "dtypes: datetime64[ns](1), float64(2), int64(1), object(4)\n",
      "memory usage: 33.1+ MB\n"
     ]
    }
   ],
   "source": [
    "df.info()"
   ]
  },
  {
   "cell_type": "code",
   "execution_count": 4,
   "id": "5aaee38c",
   "metadata": {
    "ExecuteTime": {
     "end_time": "2022-08-31T06:26:41.982644Z",
     "start_time": "2022-08-31T06:26:41.835333Z"
    }
   },
   "outputs": [
    {
     "data": {
      "text/plain": [
       "InvoiceNo           0\n",
       "StockCode           0\n",
       "Description      1454\n",
       "Quantity            0\n",
       "InvoiceDate         0\n",
       "UnitPrice           0\n",
       "CustomerID     135080\n",
       "Country             0\n",
       "dtype: int64"
      ]
     },
     "execution_count": 4,
     "metadata": {},
     "output_type": "execute_result"
    }
   ],
   "source": [
    "df.isnull().sum()"
   ]
  },
  {
   "cell_type": "code",
   "execution_count": 5,
   "id": "3041d3d8",
   "metadata": {
    "ExecuteTime": {
     "end_time": "2022-08-31T06:26:42.363979Z",
     "start_time": "2022-08-31T06:26:41.993368Z"
    }
   },
   "outputs": [
    {
     "data": {
      "text/plain": [
       "InvoiceNo      0\n",
       "StockCode      0\n",
       "Quantity       0\n",
       "InvoiceDate    0\n",
       "UnitPrice      0\n",
       "CustomerID     0\n",
       "Country        0\n",
       "dtype: int64"
      ]
     },
     "execution_count": 5,
     "metadata": {},
     "output_type": "execute_result"
    }
   ],
   "source": [
    "df['CustomerID'] = df.CustomerID.fillna('Unknown')\n",
    "df.drop('Description', axis=1, inplace=True)\n",
    "df.isnull().sum()"
   ]
  },
  {
   "cell_type": "code",
   "execution_count": 6,
   "id": "4c7da492",
   "metadata": {
    "ExecuteTime": {
     "end_time": "2022-08-31T06:26:42.396531Z",
     "start_time": "2022-08-31T06:26:42.374377Z"
    }
   },
   "outputs": [
    {
     "data": {
      "text/html": [
       "<div>\n",
       "<style scoped>\n",
       "    .dataframe tbody tr th:only-of-type {\n",
       "        vertical-align: middle;\n",
       "    }\n",
       "\n",
       "    .dataframe tbody tr th {\n",
       "        vertical-align: top;\n",
       "    }\n",
       "\n",
       "    .dataframe thead th {\n",
       "        text-align: right;\n",
       "    }\n",
       "</style>\n",
       "<table border=\"1\" class=\"dataframe\">\n",
       "  <thead>\n",
       "    <tr style=\"text-align: right;\">\n",
       "      <th></th>\n",
       "      <th>InvoiceNo</th>\n",
       "      <th>StockCode</th>\n",
       "      <th>Quantity</th>\n",
       "      <th>InvoiceDate</th>\n",
       "      <th>UnitPrice</th>\n",
       "      <th>CustomerID</th>\n",
       "      <th>Country</th>\n",
       "    </tr>\n",
       "  </thead>\n",
       "  <tbody>\n",
       "    <tr>\n",
       "      <th>0</th>\n",
       "      <td>536365</td>\n",
       "      <td>85123A</td>\n",
       "      <td>6</td>\n",
       "      <td>2010-12-01 08:26:00</td>\n",
       "      <td>2.55</td>\n",
       "      <td>17850.0</td>\n",
       "      <td>United Kingdom</td>\n",
       "    </tr>\n",
       "    <tr>\n",
       "      <th>1</th>\n",
       "      <td>536365</td>\n",
       "      <td>71053</td>\n",
       "      <td>6</td>\n",
       "      <td>2010-12-01 08:26:00</td>\n",
       "      <td>3.39</td>\n",
       "      <td>17850.0</td>\n",
       "      <td>United Kingdom</td>\n",
       "    </tr>\n",
       "    <tr>\n",
       "      <th>2</th>\n",
       "      <td>536365</td>\n",
       "      <td>84406B</td>\n",
       "      <td>8</td>\n",
       "      <td>2010-12-01 08:26:00</td>\n",
       "      <td>2.75</td>\n",
       "      <td>17850.0</td>\n",
       "      <td>United Kingdom</td>\n",
       "    </tr>\n",
       "    <tr>\n",
       "      <th>3</th>\n",
       "      <td>536365</td>\n",
       "      <td>84029G</td>\n",
       "      <td>6</td>\n",
       "      <td>2010-12-01 08:26:00</td>\n",
       "      <td>3.39</td>\n",
       "      <td>17850.0</td>\n",
       "      <td>United Kingdom</td>\n",
       "    </tr>\n",
       "    <tr>\n",
       "      <th>4</th>\n",
       "      <td>536365</td>\n",
       "      <td>84029E</td>\n",
       "      <td>6</td>\n",
       "      <td>2010-12-01 08:26:00</td>\n",
       "      <td>3.39</td>\n",
       "      <td>17850.0</td>\n",
       "      <td>United Kingdom</td>\n",
       "    </tr>\n",
       "  </tbody>\n",
       "</table>\n",
       "</div>"
      ],
      "text/plain": [
       "  InvoiceNo StockCode  Quantity         InvoiceDate  UnitPrice CustomerID  \\\n",
       "0    536365    85123A         6 2010-12-01 08:26:00       2.55    17850.0   \n",
       "1    536365     71053         6 2010-12-01 08:26:00       3.39    17850.0   \n",
       "2    536365    84406B         8 2010-12-01 08:26:00       2.75    17850.0   \n",
       "3    536365    84029G         6 2010-12-01 08:26:00       3.39    17850.0   \n",
       "4    536365    84029E         6 2010-12-01 08:26:00       3.39    17850.0   \n",
       "\n",
       "          Country  \n",
       "0  United Kingdom  \n",
       "1  United Kingdom  \n",
       "2  United Kingdom  \n",
       "3  United Kingdom  \n",
       "4  United Kingdom  "
      ]
     },
     "execution_count": 6,
     "metadata": {},
     "output_type": "execute_result"
    }
   ],
   "source": [
    "df.head()"
   ]
  },
  {
   "cell_type": "markdown",
   "id": "493e14c7",
   "metadata": {},
   "source": [
    "# Calculate the order cohort and acquisition cohort"
   ]
  },
  {
   "cell_type": "code",
   "execution_count": 7,
   "id": "e28fb084",
   "metadata": {
    "ExecuteTime": {
     "end_time": "2022-08-31T06:26:50.700354Z",
     "start_time": "2022-08-31T06:26:50.692564Z"
    }
   },
   "outputs": [],
   "source": [
    "def get_cohort(df, period='M'):\n",
    "    \n",
    "    df = df[['CustomerID','InvoiceNo','InvoiceDate']].drop_duplicates()\n",
    "    df = df.assign(acquisition_cohort = df.groupby('CustomerID')['InvoiceDate'].transform('min').dt.to_period(period))\n",
    "    df = df.assign(order_cohort = df['InvoiceDate'].dt.to_period(period))\n",
    "    \n",
    "    return df"
   ]
  },
  {
   "cell_type": "code",
   "execution_count": 8,
   "id": "9d74d92c",
   "metadata": {
    "ExecuteTime": {
     "end_time": "2022-08-31T06:26:51.470632Z",
     "start_time": "2022-08-31T06:26:51.285746Z"
    }
   },
   "outputs": [
    {
     "data": {
      "text/html": [
       "<div>\n",
       "<style scoped>\n",
       "    .dataframe tbody tr th:only-of-type {\n",
       "        vertical-align: middle;\n",
       "    }\n",
       "\n",
       "    .dataframe tbody tr th {\n",
       "        vertical-align: top;\n",
       "    }\n",
       "\n",
       "    .dataframe thead th {\n",
       "        text-align: right;\n",
       "    }\n",
       "</style>\n",
       "<table border=\"1\" class=\"dataframe\">\n",
       "  <thead>\n",
       "    <tr style=\"text-align: right;\">\n",
       "      <th></th>\n",
       "      <th>CustomerID</th>\n",
       "      <th>InvoiceNo</th>\n",
       "      <th>InvoiceDate</th>\n",
       "      <th>acquisition_cohort</th>\n",
       "      <th>order_cohort</th>\n",
       "    </tr>\n",
       "  </thead>\n",
       "  <tbody>\n",
       "    <tr>\n",
       "      <th>0</th>\n",
       "      <td>17850.0</td>\n",
       "      <td>536365</td>\n",
       "      <td>2010-12-01 08:26:00</td>\n",
       "      <td>2010Q4</td>\n",
       "      <td>2010Q4</td>\n",
       "    </tr>\n",
       "    <tr>\n",
       "      <th>7</th>\n",
       "      <td>17850.0</td>\n",
       "      <td>536366</td>\n",
       "      <td>2010-12-01 08:28:00</td>\n",
       "      <td>2010Q4</td>\n",
       "      <td>2010Q4</td>\n",
       "    </tr>\n",
       "    <tr>\n",
       "      <th>9</th>\n",
       "      <td>13047.0</td>\n",
       "      <td>536367</td>\n",
       "      <td>2010-12-01 08:34:00</td>\n",
       "      <td>2010Q4</td>\n",
       "      <td>2010Q4</td>\n",
       "    </tr>\n",
       "    <tr>\n",
       "      <th>21</th>\n",
       "      <td>13047.0</td>\n",
       "      <td>536368</td>\n",
       "      <td>2010-12-01 08:34:00</td>\n",
       "      <td>2010Q4</td>\n",
       "      <td>2010Q4</td>\n",
       "    </tr>\n",
       "    <tr>\n",
       "      <th>25</th>\n",
       "      <td>13047.0</td>\n",
       "      <td>536369</td>\n",
       "      <td>2010-12-01 08:35:00</td>\n",
       "      <td>2010Q4</td>\n",
       "      <td>2010Q4</td>\n",
       "    </tr>\n",
       "  </tbody>\n",
       "</table>\n",
       "</div>"
      ],
      "text/plain": [
       "   CustomerID InvoiceNo         InvoiceDate acquisition_cohort order_cohort\n",
       "0     17850.0    536365 2010-12-01 08:26:00             2010Q4       2010Q4\n",
       "7     17850.0    536366 2010-12-01 08:28:00             2010Q4       2010Q4\n",
       "9     13047.0    536367 2010-12-01 08:34:00             2010Q4       2010Q4\n",
       "21    13047.0    536368 2010-12-01 08:34:00             2010Q4       2010Q4\n",
       "25    13047.0    536369 2010-12-01 08:35:00             2010Q4       2010Q4"
      ]
     },
     "execution_count": 8,
     "metadata": {},
     "output_type": "execute_result"
    }
   ],
   "source": [
    "cohort = get_cohort(df, period='Q')\n",
    "cohort.head()"
   ]
  },
  {
   "cell_type": "markdown",
   "id": "701a4ec8",
   "metadata": {},
   "source": [
    "# Calculate the retention for each cohort"
   ]
  },
  {
   "cell_type": "code",
   "execution_count": 9,
   "id": "ec674c7e",
   "metadata": {
    "ExecuteTime": {
     "end_time": "2022-08-31T06:26:54.318207Z",
     "start_time": "2022-08-31T06:26:54.310137Z"
    }
   },
   "outputs": [],
   "source": [
    "def get_retention(df, period='M'):\n",
    "\n",
    "    df = get_cohort(df, period).groupby(['acquisition_cohort', 'order_cohort'])\\\n",
    "                                .agg(customers=('CustomerID', 'nunique')) \\\n",
    "                                .reset_index(drop=False)\n",
    "    df['periods'] = (df.order_cohort - df.acquisition_cohort).apply(op.attrgetter('n'))\n",
    "\n",
    "    return df"
   ]
  },
  {
   "cell_type": "code",
   "execution_count": 10,
   "id": "15f48839",
   "metadata": {
    "ExecuteTime": {
     "end_time": "2022-08-31T06:26:54.973479Z",
     "start_time": "2022-08-31T06:26:54.783636Z"
    }
   },
   "outputs": [
    {
     "data": {
      "text/html": [
       "<div>\n",
       "<style scoped>\n",
       "    .dataframe tbody tr th:only-of-type {\n",
       "        vertical-align: middle;\n",
       "    }\n",
       "\n",
       "    .dataframe tbody tr th {\n",
       "        vertical-align: top;\n",
       "    }\n",
       "\n",
       "    .dataframe thead th {\n",
       "        text-align: right;\n",
       "    }\n",
       "</style>\n",
       "<table border=\"1\" class=\"dataframe\">\n",
       "  <thead>\n",
       "    <tr style=\"text-align: right;\">\n",
       "      <th></th>\n",
       "      <th>acquisition_cohort</th>\n",
       "      <th>order_cohort</th>\n",
       "      <th>customers</th>\n",
       "      <th>periods</th>\n",
       "    </tr>\n",
       "  </thead>\n",
       "  <tbody>\n",
       "    <tr>\n",
       "      <th>0</th>\n",
       "      <td>2010-12</td>\n",
       "      <td>2010-12</td>\n",
       "      <td>949</td>\n",
       "      <td>0</td>\n",
       "    </tr>\n",
       "    <tr>\n",
       "      <th>1</th>\n",
       "      <td>2010-12</td>\n",
       "      <td>2011-01</td>\n",
       "      <td>363</td>\n",
       "      <td>1</td>\n",
       "    </tr>\n",
       "    <tr>\n",
       "      <th>2</th>\n",
       "      <td>2010-12</td>\n",
       "      <td>2011-02</td>\n",
       "      <td>318</td>\n",
       "      <td>2</td>\n",
       "    </tr>\n",
       "    <tr>\n",
       "      <th>3</th>\n",
       "      <td>2010-12</td>\n",
       "      <td>2011-03</td>\n",
       "      <td>368</td>\n",
       "      <td>3</td>\n",
       "    </tr>\n",
       "    <tr>\n",
       "      <th>4</th>\n",
       "      <td>2010-12</td>\n",
       "      <td>2011-04</td>\n",
       "      <td>342</td>\n",
       "      <td>4</td>\n",
       "    </tr>\n",
       "  </tbody>\n",
       "</table>\n",
       "</div>"
      ],
      "text/plain": [
       "  acquisition_cohort order_cohort  customers  periods\n",
       "0            2010-12      2010-12        949        0\n",
       "1            2010-12      2011-01        363        1\n",
       "2            2010-12      2011-02        318        2\n",
       "3            2010-12      2011-03        368        3\n",
       "4            2010-12      2011-04        342        4"
      ]
     },
     "execution_count": 10,
     "metadata": {},
     "output_type": "execute_result"
    }
   ],
   "source": [
    "retention = get_retention(df, period='M')\n",
    "retention.head()"
   ]
  },
  {
   "cell_type": "markdown",
   "id": "75e3570e",
   "metadata": {},
   "source": [
    "# Create cohort matrix"
   ]
  },
  {
   "cell_type": "code",
   "execution_count": 11,
   "id": "892d4a74",
   "metadata": {
    "ExecuteTime": {
     "end_time": "2022-08-31T06:26:57.349664Z",
     "start_time": "2022-08-31T06:26:57.342323Z"
    }
   },
   "outputs": [],
   "source": [
    "def get_cohort_matrix(df, period='M', percentage=False):\n",
    "    \n",
    "    df = get_retention(df, period).pivot_table(index = 'acquisition_cohort',\n",
    "                                               columns = 'periods',\n",
    "                                               values = 'customers')\n",
    "    \n",
    "    if percentage:\n",
    "        df = df.divide(df.iloc[:,0], axis=0)*100\n",
    "    \n",
    "    return df"
   ]
  },
  {
   "cell_type": "code",
   "execution_count": 12,
   "id": "b8866cd3",
   "metadata": {
    "ExecuteTime": {
     "end_time": "2022-08-31T06:26:58.093566Z",
     "start_time": "2022-08-31T06:26:57.867344Z"
    }
   },
   "outputs": [
    {
     "data": {
      "text/html": [
       "<div>\n",
       "<style scoped>\n",
       "    .dataframe tbody tr th:only-of-type {\n",
       "        vertical-align: middle;\n",
       "    }\n",
       "\n",
       "    .dataframe tbody tr th {\n",
       "        vertical-align: top;\n",
       "    }\n",
       "\n",
       "    .dataframe thead th {\n",
       "        text-align: right;\n",
       "    }\n",
       "</style>\n",
       "<table border=\"1\" class=\"dataframe\">\n",
       "  <thead>\n",
       "    <tr style=\"text-align: right;\">\n",
       "      <th>periods</th>\n",
       "      <th>0</th>\n",
       "      <th>1</th>\n",
       "      <th>2</th>\n",
       "      <th>3</th>\n",
       "      <th>4</th>\n",
       "      <th>5</th>\n",
       "      <th>6</th>\n",
       "      <th>7</th>\n",
       "      <th>8</th>\n",
       "      <th>9</th>\n",
       "      <th>10</th>\n",
       "      <th>11</th>\n",
       "      <th>12</th>\n",
       "    </tr>\n",
       "    <tr>\n",
       "      <th>acquisition_cohort</th>\n",
       "      <th></th>\n",
       "      <th></th>\n",
       "      <th></th>\n",
       "      <th></th>\n",
       "      <th></th>\n",
       "      <th></th>\n",
       "      <th></th>\n",
       "      <th></th>\n",
       "      <th></th>\n",
       "      <th></th>\n",
       "      <th></th>\n",
       "      <th></th>\n",
       "      <th></th>\n",
       "    </tr>\n",
       "  </thead>\n",
       "  <tbody>\n",
       "    <tr>\n",
       "      <th>2010-12</th>\n",
       "      <td>100.0</td>\n",
       "      <td>38.250790</td>\n",
       "      <td>33.508957</td>\n",
       "      <td>38.777661</td>\n",
       "      <td>36.037935</td>\n",
       "      <td>39.726027</td>\n",
       "      <td>38.040042</td>\n",
       "      <td>35.511064</td>\n",
       "      <td>35.511064</td>\n",
       "      <td>39.515279</td>\n",
       "      <td>37.407798</td>\n",
       "      <td>50.052687</td>\n",
       "      <td>27.502634</td>\n",
       "    </tr>\n",
       "    <tr>\n",
       "      <th>2011-01</th>\n",
       "      <td>100.0</td>\n",
       "      <td>23.990499</td>\n",
       "      <td>28.266033</td>\n",
       "      <td>24.228029</td>\n",
       "      <td>32.779097</td>\n",
       "      <td>29.928741</td>\n",
       "      <td>26.128266</td>\n",
       "      <td>25.653207</td>\n",
       "      <td>31.116390</td>\n",
       "      <td>34.679335</td>\n",
       "      <td>36.817102</td>\n",
       "      <td>14.964371</td>\n",
       "      <td>NaN</td>\n",
       "    </tr>\n",
       "    <tr>\n",
       "      <th>2011-02</th>\n",
       "      <td>100.0</td>\n",
       "      <td>24.736842</td>\n",
       "      <td>19.210526</td>\n",
       "      <td>27.894737</td>\n",
       "      <td>26.842105</td>\n",
       "      <td>24.736842</td>\n",
       "      <td>25.526316</td>\n",
       "      <td>28.157895</td>\n",
       "      <td>25.789474</td>\n",
       "      <td>31.315789</td>\n",
       "      <td>9.210526</td>\n",
       "      <td>NaN</td>\n",
       "      <td>NaN</td>\n",
       "    </tr>\n",
       "    <tr>\n",
       "      <th>2011-03</th>\n",
       "      <td>100.0</td>\n",
       "      <td>19.090909</td>\n",
       "      <td>25.454545</td>\n",
       "      <td>21.818182</td>\n",
       "      <td>23.181818</td>\n",
       "      <td>17.727273</td>\n",
       "      <td>26.363636</td>\n",
       "      <td>23.863636</td>\n",
       "      <td>28.863636</td>\n",
       "      <td>8.863636</td>\n",
       "      <td>NaN</td>\n",
       "      <td>NaN</td>\n",
       "      <td>NaN</td>\n",
       "    </tr>\n",
       "    <tr>\n",
       "      <th>2011-04</th>\n",
       "      <td>100.0</td>\n",
       "      <td>22.742475</td>\n",
       "      <td>22.073579</td>\n",
       "      <td>21.070234</td>\n",
       "      <td>20.735786</td>\n",
       "      <td>23.745819</td>\n",
       "      <td>23.076923</td>\n",
       "      <td>26.086957</td>\n",
       "      <td>8.361204</td>\n",
       "      <td>NaN</td>\n",
       "      <td>NaN</td>\n",
       "      <td>NaN</td>\n",
       "      <td>NaN</td>\n",
       "    </tr>\n",
       "  </tbody>\n",
       "</table>\n",
       "</div>"
      ],
      "text/plain": [
       "periods                0          1          2          3          4   \\\n",
       "acquisition_cohort                                                      \n",
       "2010-12             100.0  38.250790  33.508957  38.777661  36.037935   \n",
       "2011-01             100.0  23.990499  28.266033  24.228029  32.779097   \n",
       "2011-02             100.0  24.736842  19.210526  27.894737  26.842105   \n",
       "2011-03             100.0  19.090909  25.454545  21.818182  23.181818   \n",
       "2011-04             100.0  22.742475  22.073579  21.070234  20.735786   \n",
       "\n",
       "periods                    5          6          7          8          9   \\\n",
       "acquisition_cohort                                                          \n",
       "2010-12             39.726027  38.040042  35.511064  35.511064  39.515279   \n",
       "2011-01             29.928741  26.128266  25.653207  31.116390  34.679335   \n",
       "2011-02             24.736842  25.526316  28.157895  25.789474  31.315789   \n",
       "2011-03             17.727273  26.363636  23.863636  28.863636   8.863636   \n",
       "2011-04             23.745819  23.076923  26.086957   8.361204        NaN   \n",
       "\n",
       "periods                    10         11         12  \n",
       "acquisition_cohort                                   \n",
       "2010-12             37.407798  50.052687  27.502634  \n",
       "2011-01             36.817102  14.964371        NaN  \n",
       "2011-02              9.210526        NaN        NaN  \n",
       "2011-03                   NaN        NaN        NaN  \n",
       "2011-04                   NaN        NaN        NaN  "
      ]
     },
     "execution_count": 12,
     "metadata": {},
     "output_type": "execute_result"
    }
   ],
   "source": [
    "# Monthly cohort\n",
    "matrix_m = get_cohort_matrix(df, 'M', percentage=True)\n",
    "matrix_m.head()"
   ]
  },
  {
   "cell_type": "code",
   "execution_count": 13,
   "id": "be427791",
   "metadata": {
    "ExecuteTime": {
     "end_time": "2022-08-31T06:26:59.039810Z",
     "start_time": "2022-08-31T06:26:58.817815Z"
    }
   },
   "outputs": [
    {
     "data": {
      "text/html": [
       "<div>\n",
       "<style scoped>\n",
       "    .dataframe tbody tr th:only-of-type {\n",
       "        vertical-align: middle;\n",
       "    }\n",
       "\n",
       "    .dataframe tbody tr th {\n",
       "        vertical-align: top;\n",
       "    }\n",
       "\n",
       "    .dataframe thead th {\n",
       "        text-align: right;\n",
       "    }\n",
       "</style>\n",
       "<table border=\"1\" class=\"dataframe\">\n",
       "  <thead>\n",
       "    <tr style=\"text-align: right;\">\n",
       "      <th>periods</th>\n",
       "      <th>0</th>\n",
       "      <th>1</th>\n",
       "      <th>2</th>\n",
       "      <th>3</th>\n",
       "      <th>4</th>\n",
       "    </tr>\n",
       "    <tr>\n",
       "      <th>acquisition_cohort</th>\n",
       "      <th></th>\n",
       "      <th></th>\n",
       "      <th></th>\n",
       "      <th></th>\n",
       "      <th></th>\n",
       "    </tr>\n",
       "  </thead>\n",
       "  <tbody>\n",
       "    <tr>\n",
       "      <th>2010Q4</th>\n",
       "      <td>100.0</td>\n",
       "      <td>60.273973</td>\n",
       "      <td>60.906217</td>\n",
       "      <td>60.063224</td>\n",
       "      <td>64.910432</td>\n",
       "    </tr>\n",
       "    <tr>\n",
       "      <th>2011Q1</th>\n",
       "      <td>100.0</td>\n",
       "      <td>51.087832</td>\n",
       "      <td>49.959710</td>\n",
       "      <td>49.153908</td>\n",
       "      <td>NaN</td>\n",
       "    </tr>\n",
       "    <tr>\n",
       "      <th>2011Q2</th>\n",
       "      <td>100.0</td>\n",
       "      <td>43.173432</td>\n",
       "      <td>44.403444</td>\n",
       "      <td>NaN</td>\n",
       "      <td>NaN</td>\n",
       "    </tr>\n",
       "    <tr>\n",
       "      <th>2011Q3</th>\n",
       "      <td>100.0</td>\n",
       "      <td>45.884146</td>\n",
       "      <td>NaN</td>\n",
       "      <td>NaN</td>\n",
       "      <td>NaN</td>\n",
       "    </tr>\n",
       "    <tr>\n",
       "      <th>2011Q4</th>\n",
       "      <td>100.0</td>\n",
       "      <td>NaN</td>\n",
       "      <td>NaN</td>\n",
       "      <td>NaN</td>\n",
       "      <td>NaN</td>\n",
       "    </tr>\n",
       "  </tbody>\n",
       "</table>\n",
       "</div>"
      ],
      "text/plain": [
       "periods                 0          1          2          3          4\n",
       "acquisition_cohort                                                   \n",
       "2010Q4              100.0  60.273973  60.906217  60.063224  64.910432\n",
       "2011Q1              100.0  51.087832  49.959710  49.153908        NaN\n",
       "2011Q2              100.0  43.173432  44.403444        NaN        NaN\n",
       "2011Q3              100.0  45.884146        NaN        NaN        NaN\n",
       "2011Q4              100.0        NaN        NaN        NaN        NaN"
      ]
     },
     "execution_count": 13,
     "metadata": {},
     "output_type": "execute_result"
    }
   ],
   "source": [
    "# Quarterly cohort\n",
    "matrix_q = get_cohort_matrix(df, 'Q', percentage=True)\n",
    "matrix_q.head()"
   ]
  },
  {
   "cell_type": "code",
   "execution_count": 14,
   "id": "7a8c2511",
   "metadata": {
    "ExecuteTime": {
     "end_time": "2022-08-31T06:26:59.966145Z",
     "start_time": "2022-08-31T06:26:59.751884Z"
    }
   },
   "outputs": [
    {
     "data": {
      "text/html": [
       "<div>\n",
       "<style scoped>\n",
       "    .dataframe tbody tr th:only-of-type {\n",
       "        vertical-align: middle;\n",
       "    }\n",
       "\n",
       "    .dataframe tbody tr th {\n",
       "        vertical-align: top;\n",
       "    }\n",
       "\n",
       "    .dataframe thead th {\n",
       "        text-align: right;\n",
       "    }\n",
       "</style>\n",
       "<table border=\"1\" class=\"dataframe\">\n",
       "  <thead>\n",
       "    <tr style=\"text-align: right;\">\n",
       "      <th>periods</th>\n",
       "      <th>0</th>\n",
       "      <th>1</th>\n",
       "    </tr>\n",
       "    <tr>\n",
       "      <th>acquisition_cohort</th>\n",
       "      <th></th>\n",
       "      <th></th>\n",
       "    </tr>\n",
       "  </thead>\n",
       "  <tbody>\n",
       "    <tr>\n",
       "      <th>2010</th>\n",
       "      <td>100.0</td>\n",
       "      <td>86.512118</td>\n",
       "    </tr>\n",
       "    <tr>\n",
       "      <th>2011</th>\n",
       "      <td>100.0</td>\n",
       "      <td>NaN</td>\n",
       "    </tr>\n",
       "  </tbody>\n",
       "</table>\n",
       "</div>"
      ],
      "text/plain": [
       "periods                 0          1\n",
       "acquisition_cohort                  \n",
       "2010                100.0  86.512118\n",
       "2011                100.0        NaN"
      ]
     },
     "execution_count": 14,
     "metadata": {},
     "output_type": "execute_result"
    }
   ],
   "source": [
    "# Annual cohort\n",
    "matrix_a = get_cohort_matrix(df, 'Y', percentage=True)\n",
    "matrix_a.head()"
   ]
  },
  {
   "cell_type": "code",
   "execution_count": 15,
   "id": "a6e3ab1e",
   "metadata": {
    "ExecuteTime": {
     "end_time": "2022-08-31T06:27:00.756256Z",
     "start_time": "2022-08-31T06:27:00.552287Z"
    }
   },
   "outputs": [
    {
     "data": {
      "text/html": [
       "<div>\n",
       "<style scoped>\n",
       "    .dataframe tbody tr th:only-of-type {\n",
       "        vertical-align: middle;\n",
       "    }\n",
       "\n",
       "    .dataframe tbody tr th {\n",
       "        vertical-align: top;\n",
       "    }\n",
       "\n",
       "    .dataframe thead th {\n",
       "        text-align: right;\n",
       "    }\n",
       "</style>\n",
       "<table border=\"1\" class=\"dataframe\">\n",
       "  <thead>\n",
       "    <tr style=\"text-align: right;\">\n",
       "      <th>periods</th>\n",
       "      <th>0</th>\n",
       "      <th>1</th>\n",
       "    </tr>\n",
       "    <tr>\n",
       "      <th>acquisition_cohort</th>\n",
       "      <th></th>\n",
       "      <th></th>\n",
       "    </tr>\n",
       "  </thead>\n",
       "  <tbody>\n",
       "    <tr>\n",
       "      <th>2010</th>\n",
       "      <td>949.0</td>\n",
       "      <td>821.0</td>\n",
       "    </tr>\n",
       "    <tr>\n",
       "      <th>2011</th>\n",
       "      <td>3424.0</td>\n",
       "      <td>NaN</td>\n",
       "    </tr>\n",
       "  </tbody>\n",
       "</table>\n",
       "</div>"
      ],
      "text/plain": [
       "periods                  0      1\n",
       "acquisition_cohort               \n",
       "2010                 949.0  821.0\n",
       "2011                3424.0    NaN"
      ]
     },
     "execution_count": 15,
     "metadata": {},
     "output_type": "execute_result"
    }
   ],
   "source": [
    "# Annual cohort\n",
    "matrix_a = get_cohort_matrix(df, 'Y', percentage=False)\n",
    "matrix_a.head()"
   ]
  },
  {
   "cell_type": "markdown",
   "id": "f6f8e215",
   "metadata": {},
   "source": [
    "# Create cohort analysis heatmap"
   ]
  },
  {
   "cell_type": "code",
   "execution_count": 16,
   "id": "06b6844d",
   "metadata": {
    "ExecuteTime": {
     "end_time": "2022-08-31T06:27:04.104792Z",
     "start_time": "2022-08-31T06:27:03.402434Z"
    }
   },
   "outputs": [
    {
     "data": {
      "image/png": "[encoded data removed]",
      "text/plain": [
       "<Figure size 1440x360 with 2 Axes>"
      ]
     },
     "metadata": {
      "needs_background": "light"
     },
     "output_type": "display_data"
    }
   ],
   "source": [
    "del matrix_m[0]\n",
    "\n",
    "plt.subplots(figsize=(20, 5))\n",
    "\n",
    "monthly_sessions = sns.heatmap(matrix_m, annot=True, cmap='Blues')\n",
    "\n",
    "plt.title('Cohort analysis')\n",
    "plt.xlabel('Period')\n",
    "plt.ylabel('Acquisition cohort')\n",
    "plt.show()"
   ]
  },
  {
   "cell_type": "code",
   "execution_count": 17,
   "id": "d95d79b3",
   "metadata": {
    "ExecuteTime": {
     "end_time": "2022-08-31T06:27:04.463090Z",
     "start_time": "2022-08-31T06:27:04.169417Z"
    }
   },
   "outputs": [
    {
     "data": {
      "image/png": "[encoded data removed]",
      "text/plain": [
       "<Figure size 1440x360 with 2 Axes>"
      ]
     },
     "metadata": {
      "needs_background": "light"
     },
     "output_type": "display_data"
    }
   ],
   "source": [
    "del matrix_q[0]\n",
    "\n",
    "plt.subplots(figsize=(20, 5))\n",
    "\n",
    "monthly_sessions = sns.heatmap(matrix_q, annot=True, cmap='Blues')\n",
    "\n",
    "plt.title('Cohort analysis')\n",
    "plt.xlabel('Period')\n",
    "plt.ylabel('Acquisition cohort')\n",
    "plt.show()"
   ]
  },
  {
   "cell_type": "code",
   "execution_count": null,
   "id": "99753098",
   "metadata": {},
   "outputs": [],
   "source": []
  }
 ],
 "metadata": {
  "kernelspec": {
   "display_name": "Python 3",
   "language": "python",
   "name": "python3"
  },
  "language_info": {
   "codemirror_mode": {
    "name": "ipython",
    "version": 3
   },
   "file_extension": ".py",
   "mimetype": "text/x-python",
   "name": "python",
   "nbconvert_exporter": "python",
   "pygments_lexer": "ipython3",
   "version": "3.7.4"
  }
 },
 "nbformat": 4,
 "nbformat_minor": 5
}
